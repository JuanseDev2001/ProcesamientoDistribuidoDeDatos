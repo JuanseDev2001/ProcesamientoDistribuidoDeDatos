{
 "cells": [
  {
   "cell_type": "markdown",
   "id": "18d98608",
   "metadata": {},
   "source": [
    "# Clasificación de Ingresos con Spark ML\n",
    "\n",
    "Juan Sebastian Gonzalez - A00371810\n",
    "\n",
    "Juan Felipe Jojoa Crespo - A00382042"
   ]
  },
  {
   "cell_type": "markdown",
   "id": "2b3dad0f",
   "metadata": {},
   "source": [
    "## Objetivo\n",
    "Construir un modelo de **clasificación binaria** con Spark ML utilizando **Logistic Regression** para predecir si una persona pertenece a la clase $>50K$ o $<=50K$, a partir de sus características demográficas y laborales.\n"
   ]
  },
  {
   "cell_type": "markdown",
   "id": "302275fc",
   "metadata": {},
   "source": [
    "## 1. Carga de datos\n",
    "- Leer el archivo CSV en un DataFrame de Spark.\n",
    "- Inspeccionar el esquema y mostrar algunos registros para entender los datos."
   ]
  },
  {
   "cell_type": "code",
   "execution_count": 37,
   "id": "5b66c014",
   "metadata": {},
   "outputs": [
    {
     "name": "stdout",
     "output_type": "stream",
     "text": [
      "Configurando Spark para usar Python: c:\\Users\\juans\\anaconda3\\envs\\py310\\python.exe\n",
      "root\n",
      " |-- age: integer (nullable = true)\n",
      " |-- sex: string (nullable = true)\n",
      " |-- workclass: string (nullable = true)\n",
      " |-- fnlwgt: integer (nullable = true)\n",
      " |-- education: string (nullable = true)\n",
      " |-- hours_per_week: integer (nullable = true)\n",
      " |-- label: string (nullable = true)\n",
      "\n",
      "+---+------+---------+------+------------+--------------+-----+\n",
      "|age|sex   |workclass|fnlwgt|education   |hours_per_week|label|\n",
      "+---+------+---------+------+------------+--------------+-----+\n",
      "|58 |Male  |Private  |164194|HS-grad     |34            |>50K |\n",
      "|65 |Male  |Gov      |305929|Bachelors   |57            |<=50K|\n",
      "|20 |Male  |Private  |134629|HS-grad     |52            |>50K |\n",
      "|53 |Male  |Gov      |360726|Some-college|54            |<=50K|\n",
      "|32 |Female|Gov      |165852|Bachelors   |30            |<=50K|\n",
      "+---+------+---------+------+------------+--------------+-----+\n",
      "only showing top 5 rows\n",
      "\n",
      "root\n",
      " |-- age: integer (nullable = true)\n",
      " |-- sex: string (nullable = true)\n",
      " |-- workclass: string (nullable = true)\n",
      " |-- fnlwgt: integer (nullable = true)\n",
      " |-- education: string (nullable = true)\n",
      " |-- hours_per_week: integer (nullable = true)\n",
      " |-- label: string (nullable = true)\n",
      "\n",
      "+---+------+---------+------+------------+--------------+-----+\n",
      "|age|sex   |workclass|fnlwgt|education   |hours_per_week|label|\n",
      "+---+------+---------+------+------------+--------------+-----+\n",
      "|58 |Male  |Private  |164194|HS-grad     |34            |>50K |\n",
      "|65 |Male  |Gov      |305929|Bachelors   |57            |<=50K|\n",
      "|20 |Male  |Private  |134629|HS-grad     |52            |>50K |\n",
      "|53 |Male  |Gov      |360726|Some-college|54            |<=50K|\n",
      "|32 |Female|Gov      |165852|Bachelors   |30            |<=50K|\n",
      "+---+------+---------+------+------------+--------------+-----+\n",
      "only showing top 5 rows\n",
      "\n"
     ]
    }
   ],
   "source": [
    "import os\n",
    "import sys\n",
    "from pyspark.sql import SparkSession\n",
    "\n",
    "# Configurar variables de entorno para usar la misma versión de Python\n",
    "python_path = sys.executable\n",
    "os.environ['PYSPARK_PYTHON'] = python_path\n",
    "os.environ['PYSPARK_DRIVER_PYTHON'] = python_path\n",
    "\n",
    "print(f\"Configurando Spark para usar Python: {python_path}\")\n",
    "\n",
    "# Detener Spark y reiniciarlo\n",
    "try:\n",
    "    spark.stop()\n",
    "except:\n",
    "    pass\n",
    "\n",
    "# Crear sesión de Spark\n",
    "spark = SparkSession.builder \\\n",
    "    .appName(\"ClasificacionIngresos\") \\\n",
    "    .config(\"spark.sql.adaptive.enabled\", \"false\") \\\n",
    "    .getOrCreate()\n",
    "\n",
    "# Cargar el archivo CSV\n",
    "data = spark.read.csv(\"adult_income_sample.csv\", header=True, inferSchema=True)\n",
    "\n",
    "# Inspeccionar esquema y mostrar primeras filas\n",
    "data.printSchema()\n",
    "data.show(5, truncate=False)\n"
   ]
  },
  {
   "cell_type": "markdown",
   "id": "566c5b69",
   "metadata": {},
   "source": [
    "## 2. Preprocesamiento de variables categóricas\n",
    "- Usar `StringIndexer` para transformar las columnas categóricas:  \n",
    "  $sex$, $workclass$, $education$, $label$.\n",
    "- Aplicar `OneHotEncoder` para convertir esas variables en vectores binarios y evitar interpretaciones de orden.\n"
   ]
  },
  {
   "cell_type": "code",
   "execution_count": 38,
   "id": "ab420e56",
   "metadata": {},
   "outputs": [],
   "source": [
    "from pyspark.ml.feature import StringIndexer, OneHotEncoder\n",
    "\n",
    "# Columnas categóricas\n",
    "categorical_cols = [\"sex\", \"workclass\", \"education\", \"label\"]\n",
    "\n",
    "# Indexación de categorías con manejo de valores inválidos\n",
    "indexers = [StringIndexer(inputCol=col, outputCol=col+\"_index\", handleInvalid=\"skip\") for col in categorical_cols]\n",
    "\n",
    "# Codificación OneHot (excepto la variable objetivo \"label\")\n",
    "encoder = OneHotEncoder(\n",
    "    inputCols=[\"sex_index\", \"workclass_index\", \"education_index\"],\n",
    "    outputCols=[\"sex_vec\", \"workclass_vec\", \"education_vec\"]\n",
    ")"
   ]
  },
  {
   "cell_type": "markdown",
   "id": "607a4ace",
   "metadata": {},
   "source": [
    "## 3. Ensamblaje de características\n",
    "- Construir un vector de características ($features$) con las columnas:  \n",
    "  $age$, $fnlwgt$, $hours\\_per\\_week$,  \n",
    "  más las variables categóricas codificadas."
   ]
  },
  {
   "cell_type": "code",
   "execution_count": 39,
   "id": "a00a795b",
   "metadata": {},
   "outputs": [],
   "source": [
    "from pyspark.ml.feature import VectorAssembler\n",
    "\n",
    "# Columnas numéricas + categóricas codificadas\n",
    "feature_cols = [\"age\", \"fnlwgt\", \"hours_per_week\", \"sex_vec\", \"workclass_vec\", \"education_vec\"]\n",
    "\n",
    "assembler = VectorAssembler(inputCols=feature_cols, outputCol=\"features\")\n"
   ]
  },
  {
   "cell_type": "markdown",
   "id": "676835b7",
   "metadata": {},
   "source": [
    "## 4. Definición y entrenamiento del modelo\n",
    "- Configurar un modelo de $LogisticRegression$ con Spark ML.  \n",
    "- Usar un $Pipeline$ para encadenar todo el flujo:  \n",
    "  indexación, codificación, ensamblaje y entrenamiento."
   ]
  },
  {
   "cell_type": "code",
   "execution_count": 40,
   "id": "cc1f784d",
   "metadata": {},
   "outputs": [],
   "source": [
    "from pyspark.ml.classification import LogisticRegression\n",
    "from pyspark.ml import Pipeline\n",
    "\n",
    "# Modelo de regresión logística\n",
    "lr = LogisticRegression(featuresCol=\"features\", labelCol=\"label_index\")\n",
    "\n",
    "# Construir el pipeline\n",
    "pipeline = Pipeline(stages=indexers + [encoder, assembler, lr])\n",
    "\n",
    "# Entrenar modelo\n",
    "model = pipeline.fit(data)\n"
   ]
  },
  {
   "cell_type": "markdown",
   "id": "fec5383a",
   "metadata": {},
   "source": [
    "## 5. Evaluación del modelo\n",
    "- Entrenar el modelo con los 2000 registros del archivo.  \n",
    "- Mostrar las predicciones junto con las probabilidades y la etiqueta real ($label$).  \n",
    "- Reflexionar: ¿Qué observas sobre los resultados?  "
   ]
  },
  {
   "cell_type": "code",
   "execution_count": 41,
   "id": "51e383bd",
   "metadata": {},
   "outputs": [
    {
     "name": "stdout",
     "output_type": "stream",
     "text": [
      "+---+------+---------+------------+--------------+-----+----------------------------------------+----------+\n",
      "|age|sex   |workclass|education   |hours_per_week|label|probability                             |prediction|\n",
      "+---+------+---------+------------+--------------+-----+----------------------------------------+----------+\n",
      "|58 |Male  |Private  |HS-grad     |34            |>50K |[0.5367656843616814,0.46323431563831863]|0.0       |\n",
      "|65 |Male  |Gov      |Bachelors   |57            |<=50K|[0.552717753217908,0.44728224678209205] |0.0       |\n",
      "|20 |Male  |Private  |HS-grad     |52            |>50K |[0.5414849514158411,0.4585150485841589] |0.0       |\n",
      "|53 |Male  |Gov      |Some-college|54            |<=50K|[0.46718829394714395,0.5328117060528561]|1.0       |\n",
      "|32 |Female|Gov      |Bachelors   |30            |<=50K|[0.5859348819083985,0.4140651180916015] |0.0       |\n",
      "|39 |Female|Private  |11th        |26            |>50K |[0.5656434150174948,0.4343565849825052] |0.0       |\n",
      "|42 |Male  |Self-emp |Assoc       |36            |>50K |[0.46985542289380644,0.5301445771061936]|1.0       |\n",
      "|64 |Female|Gov      |Masters     |25            |<=50K|[0.4986525779322365,0.5013474220677635] |1.0       |\n",
      "|58 |Female|Gov      |Some-college|24            |>50K |[0.5013423555845395,0.49865764441546045]|0.0       |\n",
      "|60 |Male  |Self-emp |HS-grad     |26            |<=50K|[0.532556723865894,0.46744327613410597] |0.0       |\n",
      "+---+------+---------+------------+--------------+-----+----------------------------------------+----------+\n",
      "only showing top 10 rows\n",
      "\n"
     ]
    }
   ],
   "source": [
    "# Hacer predicciones\n",
    "predictions = model.transform(data)\n",
    "\n",
    "# Mostrar resultados: predicción, probabilidad y etiqueta real\n",
    "predictions.select(\"age\", \"sex\", \"workclass\", \"education\", \"hours_per_week\", \n",
    "                   \"label\", \"probability\", \"prediction\").show(10, truncate=False)\n"
   ]
  },
  {
   "cell_type": "markdown",
   "id": "eb3f2d72",
   "metadata": {},
   "source": [
    "## 6. Predicción con nuevos datos\n",
    "- Construir un DataFrame con al menos 9 registros nuevos (creados manualmente).  \n",
    "- Aplicar el modelo entrenado para predecir si esas personas ganan $>50K$ o $<=50K$.  "
   ]
  },
  {
   "cell_type": "code",
   "execution_count": 42,
   "id": "73b8e127",
   "metadata": {},
   "outputs": [
    {
     "name": "stdout",
     "output_type": "stream",
     "text": [
      "+---+------+---------+---------+--------------+----------------------------------------+----------+\n",
      "|age|sex   |workclass|education|hours_per_week|probability                             |prediction|\n",
      "+---+------+---------+---------+--------------+----------------------------------------+----------+\n",
      "|25 |Male  |Private  |Bachelors|40            |[0.5832575293597162,0.4167424706402838] |0.0       |\n",
      "|45 |Female|Gov      |Masters  |50            |[0.484105261454619,0.5158947385453809]  |1.0       |\n",
      "|30 |Male  |Self-emp |HS-grad  |60            |[0.5109571800619322,0.48904281993806775]|0.0       |\n",
      "|38 |Female|Private  |Bachelors|35            |[0.5848330980537818,0.4151669019462182] |0.0       |\n",
      "|55 |Male  |Gov      |Masters  |45            |[0.48814641941662684,0.5118535805833732]|1.0       |\n",
      "|28 |Female|Private  |11th     |30            |[0.570097701638898,0.42990229836110205] |0.0       |\n",
      "|40 |Male  |Self-emp |HS-grad  |70            |[0.5029396957374317,0.4970603042625683] |0.0       |\n",
      "|22 |Female|Private  |HS-grad  |20            |[0.5534152821163424,0.4465847178836576] |0.0       |\n",
      "|60 |Male  |Gov      |Masters  |55            |[0.4831965599029394,0.5168034400970606] |1.0       |\n",
      "+---+------+---------+---------+--------------+----------------------------------------+----------+\n",
      "\n"
     ]
    }
   ],
   "source": [
    "from pyspark.sql import Row\n",
    "\n",
    "# Crear algunos registros nuevos (solo valores válidos del dataset original)\n",
    "nuevos_datos = [\n",
    "    Row(age=25, sex=\"Male\", workclass=\"Private\", fnlwgt=200000, education=\"Bachelors\", hours_per_week=40, label=\"<=50K\"),\n",
    "    Row(age=45, sex=\"Female\", workclass=\"Gov\", fnlwgt=150000, education=\"Masters\", hours_per_week=50, label=\"<=50K\"),\n",
    "    Row(age=30, sex=\"Male\", workclass=\"Self-emp\", fnlwgt=180000, education=\"HS-grad\", hours_per_week=60, label=\"<=50K\"),\n",
    "    Row(age=38, sex=\"Female\", workclass=\"Private\", fnlwgt=120000, education=\"Bachelors\", hours_per_week=35, label=\"<=50K\"),\n",
    "    Row(age=55, sex=\"Male\", workclass=\"Gov\", fnlwgt=160000, education=\"Masters\", hours_per_week=45, label=\"<=50K\"),\n",
    "    Row(age=28, sex=\"Female\", workclass=\"Private\", fnlwgt=100000, education=\"11th\", hours_per_week=30, label=\"<=50K\"),\n",
    "    Row(age=40, sex=\"Male\", workclass=\"Self-emp\", fnlwgt=175000, education=\"HS-grad\", hours_per_week=70, label=\"<=50K\"),\n",
    "    Row(age=22, sex=\"Female\", workclass=\"Private\", fnlwgt=130000, education=\"HS-grad\", hours_per_week=20, label=\"<=50K\"),\n",
    "    Row(age=60, sex=\"Male\", workclass=\"Gov\", fnlwgt=140000, education=\"Masters\", hours_per_week=55, label=\"<=50K\")\n",
    "]\n",
    "\n",
    "df_nuevos = spark.createDataFrame(nuevos_datos)\n",
    "\n",
    "# Predecir con el modelo entrenado\n",
    "pred_nuevos = model.transform(df_nuevos)\n",
    "\n",
    "# Mostrar resultados\n",
    "pred_nuevos.select(\"age\", \"sex\", \"workclass\", \"education\", \"hours_per_week\",\n",
    "                   \"probability\", \"prediction\").show(truncate=False)\n"
   ]
  }
 ],
 "metadata": {
  "kernelspec": {
   "display_name": "py310",
   "language": "python",
   "name": "python3"
  },
  "language_info": {
   "codemirror_mode": {
    "name": "ipython",
    "version": 3
   },
   "file_extension": ".py",
   "mimetype": "text/x-python",
   "name": "python",
   "nbconvert_exporter": "python",
   "pygments_lexer": "ipython3",
   "version": "3.10.18"
  }
 },
 "nbformat": 4,
 "nbformat_minor": 5
}
